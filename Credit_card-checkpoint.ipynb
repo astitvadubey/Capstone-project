{
 "cells": [
  {
   "cell_type": "code",
   "execution_count": 1,
   "metadata": {
    "colab": {
     "base_uri": "https://localhost:8080/"
    },
    "id": "bqWwpGWTPyjP",
    "outputId": "5c487cd7-b676-4bc7-d254-c94ceef4eb0f"
   },
   "outputs": [],
   "source": [
    "import pandas as pd\n",
    "\n",
    "# Load the dataset\n",
    "data = pd.read_csv(\"creditcard.csv\")"
   ]
  },
  {
   "cell_type": "code",
   "execution_count": null,
   "metadata": {
    "colab": {
     "base_uri": "https://localhost:8080/"
    },
    "id": "MxinvtZ1QKoC",
    "outputId": "a42c7f6c-7922-4bc1-9c31-82a80130b888"
   },
   "outputs": [],
   "source": [
    "# Step 2: Exploratory Data Analysis (EDA)\n",
    "# Check data quality, treat missing values, outliers, etc.\n",
    "print(data.info())"
   ]
  },
  {
   "cell_type": "code",
   "execution_count": null,
   "metadata": {
    "colab": {
     "base_uri": "https://localhost:8080/",
     "height": 349
    },
    "id": "jG1MgSDjQ5L9",
    "outputId": "5692122c-eca3-4222-bcb1-98600ae03650"
   },
   "outputs": [],
   "source": [
    "data.describe()"
   ]
  },
  {
   "cell_type": "code",
   "execution_count": null,
   "metadata": {
    "colab": {
     "base_uri": "https://localhost:8080/"
    },
    "id": "PBFvB5UwRBV2",
    "outputId": "af28ea07-0071-417d-8381-8d8889f2cdc7"
   },
   "outputs": [],
   "source": [
    "data.dtypes"
   ]
  },
  {
   "cell_type": "code",
   "execution_count": null,
   "metadata": {
    "id": "M8I7sFolRFvO"
   },
   "outputs": [],
   "source": [
    "# Step 3: Get the correct datatype for date\n",
    "# Assuming the 'Time' column represents time in seconds, we can convert it to datetime\n",
    "data['Time'] = pd.to_datetime(data['Time'], unit='s')"
   ]
  },
  {
   "cell_type": "code",
   "execution_count": null,
   "metadata": {
    "colab": {
     "base_uri": "https://localhost:8080/",
     "height": 790
    },
    "id": "IYOXZ8ehRNyt",
    "outputId": "121b03ff-d185-48d5-f76b-a9d51dd7cfe6"
   },
   "outputs": [],
   "source": [
    "data"
   ]
  },
  {
   "cell_type": "code",
   "execution_count": null,
   "metadata": {
    "id": "I_5XJ9LYRRCX"
   },
   "outputs": [],
   "source": [
    "# Step 3: Get the correct datatype for date\n",
    "# Assuming the 'Time' column represents time in seconds, we can convert it to datetime\n",
    "data['Time'] = pd.to_datetime(data['Time'], unit='s')"
   ]
  },
  {
   "cell_type": "code",
   "execution_count": null,
   "metadata": {
    "colab": {
     "base_uri": "https://localhost:8080/"
    },
    "id": "fDGME4jpR_Nk",
    "outputId": "ad194701-5eaf-4abb-ac7a-e72c1434a6cf"
   },
   "outputs": [],
   "source": [
    "print(data.isnull().sum())"
   ]
  },
  {
   "cell_type": "code",
   "execution_count": null,
   "metadata": {
    "id": "rNcAFTeeSD39"
   },
   "outputs": [],
   "source": [
    "data.dropna(subset=['Class'], inplace=True)"
   ]
  },
  {
   "cell_type": "code",
   "execution_count": 26,
   "metadata": {
    "id": "3lhmXrwLSPKg"
   },
   "outputs": [
    {
     "ename": "NameError",
     "evalue": "name 'y' is not defined",
     "output_type": "error",
     "traceback": [
      "\u001b[1;31m---------------------------------------------------------------------------\u001b[0m",
      "\u001b[1;31mNameError\u001b[0m                                 Traceback (most recent call last)",
      "Cell \u001b[1;32mIn[26], line 2\u001b[0m\n\u001b[0;32m      1\u001b[0m \u001b[38;5;66;03m# Fill missing values with the mean\u001b[39;00m\n\u001b[1;32m----> 2\u001b[0m y\u001b[38;5;241m.\u001b[39mfillna(y\u001b[38;5;241m.\u001b[39mmean(), inplace\u001b[38;5;241m=\u001b[39m\u001b[38;5;28;01mTrue\u001b[39;00m)\n",
      "\u001b[1;31mNameError\u001b[0m: name 'y' is not defined"
     ]
    }
   ],
   "source": [
    "# Fill missing values with the mean\n",
    "y.fillna(y.mean(), inplace=True)"
   ]
  },
  {
   "cell_type": "code",
   "execution_count": 27,
   "metadata": {
    "id": "hnWien-vRWuH"
   },
   "outputs": [],
   "source": [
    "#step 4\n",
    "from sklearn.decomposition import PCA\n",
    "\n",
    "# Exclude datetime column 'Time' before applying PCA\n",
    "X_features = data.drop(['Time', 'Class'], axis=1)  # Exclude 'Time' and 'Class' columns\n",
    "y_target = data['Class']"
   ]
  },
  {
   "cell_type": "code",
   "execution_count": 28,
   "metadata": {
    "id": "1bnTpTIrRquP"
   },
   "outputs": [],
   "source": [
    "# Step 5: Feature Engineering and feature selection using PCA\n",
    "pca = PCA(n_components=10)  # Choose the number of principal components\n",
    "X_pca = pca.fit_transform(X_features)"
   ]
  },
  {
   "cell_type": "code",
   "execution_count": 29,
   "metadata": {
    "id": "tPNvpvHnSt93"
   },
   "outputs": [],
   "source": [
    "from sklearn.model_selection import train_test_split\n",
    "# Step 6: Train/Test Split using PCA-transformed features\n",
    "X_train, X_test, y_train, y_test = train_test_split(X_pca, y_target, test_size=0.2, random_state=42)\n"
   ]
  },
  {
   "cell_type": "code",
   "execution_count": null,
   "metadata": {
    "id": "cXFGfF4BS27O"
   },
   "outputs": [],
   "source": [
    "from sklearn.model_selection import train_test_split\n",
    "from sklearn.ensemble import RandomForestClassifier\n",
    "from sklearn.metrics import accuracy_score, classification_report, confusion_matrix\n",
    "import joblib\n",
    "# Step 7: Model Selection, Training, Predicting, and Assessment using RandomForestClassifier\n",
    "rf_model = RandomForestClassifier()\n",
    "rf_model.fit(X_train, y_train)\n",
    "y_pred = rf_model.predict(X_test)"
   ]
  },
  {
   "cell_type": "code",
   "execution_count": null,
   "metadata": {
    "colab": {
     "base_uri": "https://localhost:8080/"
    },
    "id": "a2P4PAY-TOYu",
    "outputId": "1ca4d85e-e1de-4f61-f82e-288de674c239"
   },
   "outputs": [],
   "source": [
    "# Step 8: Model evaluation\n",
    "print(\"Accuracy:\", accuracy_score(y_test, y_pred))\n",
    "print(\"Classification Report:\\n\", classification_report(y_test, y_pred))\n",
    "print(\"Confusion Matrix:\\n\", confusion_matrix(y_test, y_pred))"
   ]
  },
  {
   "cell_type": "code",
   "execution_count": null,
   "metadata": {
    "colab": {
     "base_uri": "https://localhost:8080/"
    },
    "id": "15IZeudATnKD",
    "outputId": "066d4f19-0d04-4232-df91-3f376afe4f19"
   },
   "outputs": [],
   "source": [
    "# Step 9: Model deployment plan\n",
    "# Save the trained model\n",
    "joblib.dump(rf_model, 'credit_card_fraud_detection_model.pkl')"
   ]
  },
  {
   "cell_type": "code",
   "execution_count": null,
   "metadata": {
    "id": "DMxE5PPJTvVh"
   },
   "outputs": [],
   "source": []
  },
  {
   "cell_type": "code",
   "execution_count": null,
   "metadata": {},
   "outputs": [],
   "source": []
  },
  {
   "cell_type": "code",
   "execution_count": null,
   "metadata": {},
   "outputs": [],
   "source": []
  },
  {
   "cell_type": "code",
   "execution_count": null,
   "metadata": {},
   "outputs": [],
   "source": []
  },
  {
   "cell_type": "code",
   "execution_count": null,
   "metadata": {},
   "outputs": [],
   "source": []
  },
  {
   "cell_type": "code",
   "execution_count": null,
   "metadata": {},
   "outputs": [],
   "source": []
  }
 ],
 "metadata": {
  "colab": {
   "provenance": []
  },
  "kernelspec": {
   "display_name": "Python 3 (ipykernel)",
   "language": "python",
   "name": "python3"
  },
  "language_info": {
   "codemirror_mode": {
    "name": "ipython",
    "version": 3
   },
   "file_extension": ".py",
   "mimetype": "text/x-python",
   "name": "python",
   "nbconvert_exporter": "python",
   "pygments_lexer": "ipython3",
   "version": "3.11.7"
  }
 },
 "nbformat": 4,
 "nbformat_minor": 4
}
